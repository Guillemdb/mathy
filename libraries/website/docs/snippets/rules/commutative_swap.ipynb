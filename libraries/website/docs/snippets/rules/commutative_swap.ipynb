{
 "cells": [
  {
   "cell_type": "code",
   "execution_count": null,
   "metadata": {
    "collapsed": false
   },
   "outputs": [],
   "source": [
    "# This file is generated from a mathy documentation code snippet.\n",
    "!pip install mathy\n",
    "from mathy import CommutativeSwapRule, ExpressionParser\n",
    "\n",
    "input = \"x + y + x\"\n",
    "output = \"x + (x + y)\"\n",
    "parser = ExpressionParser()\n",
    "\n",
    "input_exp = parser.parse(input)\n",
    "output_exp = parser.parse(output)\n",
    "\n",
    "# Verify that the rule transforms the tree as expected\n",
    "change = CommutativeSwapRule().apply_to(input_exp)\n",
    "assert str(change.result) == output"
   ]
  }
 ],
 "metadata": {},
 "nbformat": 4,
 "nbformat_minor": 2
}

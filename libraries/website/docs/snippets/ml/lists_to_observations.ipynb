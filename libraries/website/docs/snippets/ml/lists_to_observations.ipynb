{
 "cells": [
  {
   "cell_type": "code",
   "execution_count": null,
   "metadata": {
    "collapsed": false
   },
   "outputs": [],
   "source": [
    "# This file is generated from a mathy documentation code snippet.\n",
    "!pip install mathy\n",
    "from mathy import (\n",
    "    MathyEnv,\n",
    "    MathyEnvState,\n",
    "    MathyObservation,\n",
    "    envs,\n",
    "    observations_to_window,\n",
    ")\n",
    "\n",
    "env: MathyEnv = envs.PolySimplify()\n",
    "state: MathyEnvState = env.get_initial_state()[0]\n",
    "observation: MathyObservation = env.state_to_observation(state, rnn_size=128)\n",
    "\n",
    "# As many nodes as values\n",
    "assert len(observation.nodes) == len(observation.values)\n",
    "# Mask is number of nodes times number of actions\n",
    "assert len(observation.mask) == len(observation.nodes) * env.action_size\n",
    "# RNN states are the same size\n",
    "assert len(observation.rnn_state_h) == 128\n",
    "assert len(observation.rnn_state_c) == 128\n",
    "assert len(observation.rnn_history_h) == 128"
   ]
  }
 ],
 "metadata": {},
 "nbformat": 4,
 "nbformat_minor": 2
}

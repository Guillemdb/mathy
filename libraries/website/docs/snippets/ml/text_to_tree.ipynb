{
 "cells": [
  {
   "cell_type": "code",
   "execution_count": null,
   "metadata": {
    "collapsed": false
   },
   "outputs": [],
   "source": [
    "# This file is generated from a mathy documentation code snippet.\n",
    "!pip install mathy\n",
    "from typing import List\n",
    "\n",
    "from mathy import ExpressionParser, MathExpression, Token, VariableExpression\n",
    "\n",
    "problem = \"4 + 2x\"\n",
    "parser = ExpressionParser()\n",
    "tokens: List[Token] = parser.tokenize(problem)\n",
    "expression: MathExpression = parser.parse(problem)\n",
    "assert len(expression.find_type(VariableExpression)) == 1"
   ]
  }
 ],
 "metadata": {},
 "nbformat": 4,
 "nbformat_minor": 2
}

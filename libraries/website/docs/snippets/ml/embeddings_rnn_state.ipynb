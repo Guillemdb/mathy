{
 "cells": [
  {
   "cell_type": "code",
   "execution_count": null,
   "metadata": {
    "collapsed": false
   },
   "outputs": [],
   "source": [
    "# This file is generated from a Mathy (https://mathy.ai) code example.\n",
    "!pip install mathy --upgrade\n",
    "import numpy as np\n",
    "\n",
    "from mathy import envs\n",
    "from mathy.agents.base_config import BaseConfig\n",
    "from mathy.agents.embedding import MathyEmbedding\n",
    "from mathy.env import MathyEnv\n",
    "from mathy.state import MathyObservation, observations_to_window\n",
    "\n",
    "args = BaseConfig()\n",
    "env: MathyEnv = envs.PolySimplify()\n",
    "observation: MathyObservation = env.state_to_observation(\n",
    "    env.get_initial_state()[0], rnn_size=args.lstm_units\n",
    ")\n",
    "model = MathyEmbedding(args)\n",
    "inputs = observations_to_window([observation]).to_inputs()\n",
    "\n",
    "# Expect that the RNN states are zero to begin\n",
    "assert np.count_nonzero(model.state_h.numpy()) == 0\n",
    "assert np.count_nonzero(model.state_c.numpy()) == 0\n",
    "\n",
    "embeddings = model.call(inputs)\n",
    "\n",
    "# Expect that the RNN states are non-zero\n",
    "assert np.count_nonzero(model.state_h.numpy()) > 0\n",
    "assert np.count_nonzero(model.state_c.numpy()) > 0\n",
    "\n",
    "# You can reset them\n",
    "model.reset_rnn_state()\n",
    "\n",
    "# Expect that the RNN states are zero again\n",
    "assert np.count_nonzero(model.state_h.numpy()) == 0\n",
    "assert np.count_nonzero(model.state_c.numpy()) == 0"
   ]
  }
 ],
 "metadata": {},
 "nbformat": 4,
 "nbformat_minor": 2
}

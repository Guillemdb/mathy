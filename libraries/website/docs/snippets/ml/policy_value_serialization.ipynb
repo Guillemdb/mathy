{
 "cells": [
  {
   "cell_type": "code",
   "execution_count": null,
   "metadata": {
    "collapsed": false
   },
   "outputs": [],
   "source": [
    "# This file is generated from a mathy documentation code snippet.\n",
    "!pip install mathy\n",
    "import shutil\n",
    "import tempfile\n",
    "\n",
    "from mathy.agents.a3c import A3CAgent, A3CConfig\n",
    "from mathy.agents.policy_value_model import PolicyValueModel, get_or_create_policy_model\n",
    "from mathy.cli import setup_tf_env\n",
    "from mathy.envs import PolySimplify\n",
    "\n",
    "model_folder = tempfile.mkdtemp()\n",
    "setup_tf_env()\n",
    "\n",
    "args = A3CConfig(\n",
    "    max_eps=1,\n",
    "    verbose=True,\n",
    "    train=True,\n",
    "    difficulty=\"easy\",\n",
    "    action_strategy=\"a3c\",\n",
    "    topics=[\"poly-combine\"],\n",
    "    lstm_units=16,\n",
    "    units=32,\n",
    "    embedding_units=24,\n",
    "    mcts_sims=100,\n",
    "    model_dir=model_folder,\n",
    "    num_workers=1,\n",
    "    profile=False,\n",
    "    print_training=False,\n",
    ")\n",
    "instance = A3CAgent(args)\n",
    "instance.train()\n",
    "\n",
    "# Load the model back in\n",
    "model_two = get_or_create_policy_model(\n",
    "    args=args, env_actions=PolySimplify().action_size, is_main=True\n",
    ")\n",
    "\n",
    "# Comment this out to keep your model\n",
    "shutil.rmtree(model_folder)"
   ]
  }
 ],
 "metadata": {},
 "nbformat": 4,
 "nbformat_minor": 2
}

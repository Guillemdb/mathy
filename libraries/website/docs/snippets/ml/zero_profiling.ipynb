{
 "cells": [
  {
   "cell_type": "code",
   "execution_count": null,
   "metadata": {
    "collapsed": false
   },
   "outputs": [],
   "source": [
    "# This file is generated from a Mathy (https://mathy.ai) code example.\n",
    "!pip install mathy --upgrade\n",
    "!pip install gym\n",
    "import os\n",
    "import shutil\n",
    "import tempfile\n",
    "\n",
    "from mathy.agents.zero import SelfPlayConfig, self_play_runner\n",
    "from mathy.cli import setup_tf_env\n",
    "\n",
    "model_folder = tempfile.mkdtemp()\n",
    "args = SelfPlayConfig(\n",
    "    num_workers=1,\n",
    "    profile=True,\n",
    "    model_dir=model_folder,\n",
    "    # All options below here can be deleted if you're actually training\n",
    "    max_eps=1,\n",
    "    self_play_problems=1,\n",
    "    training_iterations=1,\n",
    "    epochs=1,\n",
    "    mcts_sims=3,\n",
    ")\n",
    "\n",
    "self_play_runner(args)\n",
    "\n",
    "\n",
    "assert os.path.isfile(os.path.join(args.model_dir, \"worker_0.profile\"))\n",
    "\n",
    "# Comment this out to keep your model\n",
    "shutil.rmtree(model_folder)"
   ]
  }
 ],
 "metadata": {},
 "nbformat": 4,
 "nbformat_minor": 2
}

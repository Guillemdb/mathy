{
 "cells": [
  {
   "cell_type": "code",
   "execution_count": null,
   "metadata": {
    "collapsed": false
   },
   "outputs": [],
   "source": [
    "# This file is generated from a Mathy (https://mathy.ai) code example.\n",
    "!pip install mathy --upgrade\n",
    "!pip install gym\n",
    "from mathy.cli import setup_tf_env\n",
    "from mathy.agents.zero import SelfPlayConfig, self_play_runner\n",
    "\n",
    "import shutil\n",
    "import tempfile\n",
    "\n",
    "model_folder = tempfile.mkdtemp()\n",
    "setup_tf_env()\n",
    "self_play_cfg = SelfPlayConfig(\n",
    "    # Setting to 1 worker uses single-threaded implementation\n",
    "    num_workers=1,\n",
    "    mcts_sims=3,\n",
    "    max_eps=1,\n",
    "    self_play_problems=1,\n",
    "    training_iterations=1,\n",
    "    verbose=True,\n",
    "    topics=[\"poly-combine\"],\n",
    "    model_dir=model_folder,\n",
    "    print_training=True,\n",
    ")\n",
    "\n",
    "self_play_runner(self_play_cfg)\n",
    "# Comment this out to keep your model\n",
    "shutil.rmtree(model_folder)"
   ]
  }
 ],
 "metadata": {},
 "nbformat": 4,
 "nbformat_minor": 2
}

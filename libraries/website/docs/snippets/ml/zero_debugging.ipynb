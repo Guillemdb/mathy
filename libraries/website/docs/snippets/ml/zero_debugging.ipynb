{
 "cells": [
  {
   "cell_type": "code",
   "execution_count": null,
   "metadata": {
    "collapsed": false
   },
   "outputs": [],
   "source": [
    "# This file is generated from a mathy documentation code snippet.\n",
    "!pip install mathy\n",
    "from mathy.cli import setup_tf_env\n",
    "from mathy.agents.zero import SelfPlayConfig, self_play_runner\n",
    "\n",
    "import shutil\n",
    "import tempfile\n",
    "\n",
    "model_folder = tempfile.mkdtemp()\n",
    "setup_tf_env()\n",
    "self_play_cfg = SelfPlayConfig(\n",
    "    # Setting to 1 worker uses single-threaded implementation\n",
    "    num_workers=1,\n",
    "    max_eps=1,\n",
    "    self_play_problems=1,\n",
    "    verbose=True,\n",
    "    train=True,\n",
    "    difficulty=\"easy\",\n",
    "    topics=[\"poly-combine\"],\n",
    "    lstm_units=16,\n",
    "    units=32,\n",
    "    embedding_units=16,\n",
    "    mcts_sims=1,\n",
    "    model_dir=model_folder,\n",
    "    print_training=True,\n",
    "    training_iterations=1,\n",
    ")\n",
    "\n",
    "self_play_runner(self_play_cfg)\n",
    "# Comment this out to keep your model\n",
    "shutil.rmtree(model_folder)"
   ]
  }
 ],
 "metadata": {},
 "nbformat": 4,
 "nbformat_minor": 2
}

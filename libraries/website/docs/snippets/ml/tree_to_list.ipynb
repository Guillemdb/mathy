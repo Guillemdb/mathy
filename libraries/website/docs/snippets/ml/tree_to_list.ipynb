{
 "cells": [
  {
   "cell_type": "code",
   "execution_count": null,
   "metadata": {
    "collapsed": false
   },
   "outputs": [],
   "source": [
    "# This file is generated from a mathy documentation code snippet.\n",
    "!pip install mathy\n",
    "from typing import List\n",
    "from mathy import ExpressionParser, MathExpression\n",
    "\n",
    "parser = ExpressionParser()\n",
    "expression: MathExpression = parser.parse(\"4 + 2x\")\n",
    "nodes: List[MathExpression] = expression.to_list()\n",
    "# len([4,+,2,*,x])\n",
    "assert len(nodes) == 5"
   ]
  }
 ],
 "metadata": {},
 "nbformat": 4,
 "nbformat_minor": 2
}

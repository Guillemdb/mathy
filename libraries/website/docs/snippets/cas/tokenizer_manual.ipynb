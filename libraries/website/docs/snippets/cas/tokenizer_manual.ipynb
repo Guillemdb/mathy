{
 "cells": [
  {
   "cell_type": "code",
   "execution_count": null,
   "metadata": {
    "collapsed": false
   },
   "outputs": [],
   "source": [
    "# This file is generated from a mathy documentation code snippet.\n",
    "!pip install mathy\n",
    "from typing import List\n",
    "from mathy import Token, TokenConstant, TokenEOF, Tokenizer, TokenPlus, TokenVariable\n",
    "\n",
    "manual_tokens: List[Token] = [\n",
    "    Token(\"4\", TokenConstant),\n",
    "    Token(\"x\", TokenVariable),\n",
    "    Token(\"+\", TokenPlus),\n",
    "    Token(\"2\", TokenConstant),\n",
    "    Token(\"\", TokenEOF),\n",
    "]\n",
    "auto_tokens: List[Token] = Tokenizer().tokenize(\"4x + 2\")\n",
    "\n",
    "for i, token in enumerate(manual_tokens):\n",
    "    assert auto_tokens[i].value == token.value\n",
    "    assert auto_tokens[i].type == token.type"
   ]
  }
 ],
 "metadata": {},
 "nbformat": 4,
 "nbformat_minor": 2
}

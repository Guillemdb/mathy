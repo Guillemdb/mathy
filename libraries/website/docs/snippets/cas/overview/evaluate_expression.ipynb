{
 "cells": [
  {
   "cell_type": "code",
   "execution_count": null,
   "metadata": {
    "collapsed": false
   },
   "outputs": [],
   "source": [
    "# This file is generated from a mathy documentation code snippet.\n",
    "!pip install mathy\n",
    "from mathy import ExpressionParser\n",
    "\n",
    "expression = ExpressionParser().parse(\"4 + 2\")\n",
    "assert expression.evaluate() == 6"
   ]
  }
 ],
 "metadata": {},
 "nbformat": 4,
 "nbformat_minor": 2
}

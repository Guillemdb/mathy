{
 "cells": [
  {
   "cell_type": "code",
   "execution_count": null,
   "metadata": {
    "collapsed": false
   },
   "outputs": [],
   "source": [
    "# This file is generated from a mathy documentation code snippet.\n",
    "!pip install mathy\n",
    "from mathy import ExpressionParser, MathExpression\n",
    "\n",
    "expression: MathExpression = ExpressionParser().parse(\"4x + 2y\")\n",
    "assert expression.evaluate({\"x\": 2, \"y\": 5}) == 18"
   ]
  }
 ],
 "metadata": {},
 "nbformat": 4,
 "nbformat_minor": 2
}

{
 "cells": [
  {
   "cell_type": "code",
   "execution_count": null,
   "metadata": {
    "collapsed": false
   },
   "outputs": [],
   "source": [
    "# This file is generated from a mathy documentation code snippet.\n",
    "!pip install mathy\n",
    "from typing import List\n",
    "from mathy import Tokenizer, Token\n",
    "\n",
    "text = \"4x + 2x^3 * 7x\"\n",
    "tokenizer = Tokenizer()\n",
    "tokens: List[Token] = tokenizer.tokenize(text)\n",
    "\n",
    "for token in tokens:\n",
    "    print(f\"type: {token.type}, value: {token.value}\")"
   ]
  }
 ],
 "metadata": {},
 "nbformat": 4,
 "nbformat_minor": 2
}
